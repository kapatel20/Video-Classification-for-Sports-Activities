{
 "cells": [
  {
   "cell_type": "markdown",
   "id": "bbb19536",
   "metadata": {},
   "source": [
    "## Name - Kshitij Ajaykumar Patel\n",
    "\n",
    "## USC ID - 1663106670\n",
    "\n",
    "## GitHub ID - kapatel20"
   ]
  },
  {
   "cell_type": "markdown",
   "id": "dc35daab",
   "metadata": {},
   "source": [
    "## Importing Necessary Modules"
   ]
  },
  {
   "cell_type": "code",
   "execution_count": 1,
   "id": "b372ed1c",
   "metadata": {},
   "outputs": [],
   "source": [
    "import os\n",
    "import tensorflow as tf\n",
    "import sklearn.model_selection\n",
    "import sklearn\n",
    "import shutil\n",
    "import tensorflow as tf\n",
    "from tensorflow.keras.layers.experimental import preprocessing\n",
    "from tensorflow.keras import layers\n",
    "from tensorflow.keras.models import Sequential\n",
    "from tensorflow.keras.preprocessing.image import ImageDataGenerator\n",
    "import time\n",
    "import io\n",
    "import numpy as np\n",
    "import pandas as pd\n",
    "import matplotlib.pyplot as plt\n",
    "from tensorflow.keras.applications import EfficientNetB0, ResNet50, VGG16\n",
    "import cv2\n",
    "from tensorflow.keras.preprocessing import image"
   ]
  },
  {
   "cell_type": "markdown",
   "id": "a2be33c9",
   "metadata": {},
   "source": [
    "## Data Exploration and Data Preparation"
   ]
  },
  {
   "cell_type": "code",
   "execution_count": 2,
   "id": "50e17f98",
   "metadata": {},
   "outputs": [],
   "source": [
    "def createData():\n",
    "    classes = os.listdir(\"../data/Sport Images/\")\n",
    "    classes.remove(\"Image URLs\")\n",
    "    print(classes)\n",
    "    ### Create a folder named final data\n",
    "    os.mkdir(\"../data/final_data/\")\n",
    "    os.mkdir(\"../data/final_data/train/\")\n",
    "    os.mkdir(\"../data/final_data/validation/\")\n",
    "    os.mkdir(\"../data/final_data/test/\")\n",
    "    for cls in classes:\n",
    "        os.mkdir(\"../data/final_data/train/\"+cls+\"/\")\n",
    "        os.mkdir(\"../data/final_data/validation/\"+cls+\"/\")\n",
    "        os.mkdir(\"../data/final_data/test/\"+cls+\"/\")\n",
    "    for cls in classes:\n",
    "        \n",
    "        path = \"../data/Sport Images/\"+cls+\"/\"\n",
    "        img_list = os.listdir(path)\n",
    "        train_list, test_list = sklearn.model_selection.train_test_split(img_list,test_size=0.3, random_state=0)\n",
    "        val_list, test_list = sklearn.model_selection.train_test_split(test_list, test_size=0.5, random_state=0)\n",
    "\n",
    "        for file in train_list:               \n",
    "            shutil.copy(\"../data/Sport Images/\"+cls+\"/\"+file, \"../data/final_data/train/\"+cls+\"/\"+file)\n",
    "        for file in val_list:               \n",
    "            shutil.copy(\"../data/Sport Images/\"+cls+\"/\"+file, \"../data/final_data/validation/\"+cls+\"/\"+file)\n",
    "        for file in test_list:               \n",
    "            shutil.copy(\"../data/Sport Images/\"+cls+\"/\"+file, \"../data/final_data/test/\"+cls+\"/\"+file)        "
   ]
  },
  {
   "cell_type": "markdown",
   "id": "185bddba",
   "metadata": {},
   "source": [
    "## Run the following line to prepare data"
   ]
  },
  {
   "cell_type": "code",
   "execution_count": 3,
   "id": "0fe03911",
   "metadata": {},
   "outputs": [],
   "source": [
    "createData()"
   ]
  },
  {
   "cell_type": "code",
   "execution_count": null,
   "id": "4e78a168",
   "metadata": {},
   "outputs": [],
   "source": []
  },
  {
   "cell_type": "code",
   "execution_count": null,
   "id": "84963fe5",
   "metadata": {},
   "outputs": [],
   "source": []
  },
  {
   "cell_type": "markdown",
   "id": "cdda4898",
   "metadata": {},
   "source": [
    "## Image Augmentation"
   ]
  },
  {
   "cell_type": "code",
   "execution_count": 3,
   "id": "8cdc47c8",
   "metadata": {},
   "outputs": [],
   "source": [
    "img_augmentation = Sequential(\n",
    "    [\n",
    "        preprocessing.RandomCrop(220,220),\n",
    "        preprocessing.RandomZoom(0.05,0.05),\n",
    "        preprocessing.RandomRotation(factor=0.15),\n",
    "        preprocessing.RandomFlip(),\n",
    "        preprocessing.RandomContrast(factor=0.1),\n",
    "        preprocessing.RandomTranslation(height_factor=0.1, width_factor=0.1)      \n",
    "    ],\n",
    "    name=\"img_augmentation\",\n",
    ")"
   ]
  },
  {
   "cell_type": "markdown",
   "id": "db377a95",
   "metadata": {},
   "source": [
    "## Creating Loader for training, validation and testing"
   ]
  },
  {
   "cell_type": "code",
   "execution_count": 4,
   "id": "68f097fd",
   "metadata": {},
   "outputs": [],
   "source": [
    "train_path = \"../data/final_data/train/\"\n",
    "valid_path = \"../data/final_data/validation/\"\n",
    "test_path = \"../data/final_data/test/\""
   ]
  },
  {
   "cell_type": "code",
   "execution_count": 5,
   "id": "768d436d",
   "metadata": {},
   "outputs": [
    {
     "name": "stdout",
     "output_type": "stream",
     "text": [
      "Found 2282 images belonging to 5 classes.\n",
      "Found 488 images belonging to 5 classes.\n",
      "Found 492 images belonging to 5 classes.\n"
     ]
    }
   ],
   "source": [
    "train_batches = ImageDataGenerator(preprocessing_function=tf.keras.applications.efficientnet.preprocess_input).flow_from_directory(\n",
    "    directory=train_path, target_size=(224,224), batch_size=5)\n",
    "valid_batches = ImageDataGenerator(preprocessing_function=tf.keras.applications.efficientnet.preprocess_input).flow_from_directory(\n",
    "    directory=valid_path, target_size=(224,224), batch_size=5)\n",
    "test_batches = ImageDataGenerator(preprocessing_function=tf.keras.applications.efficientnet.preprocess_input).flow_from_directory(\n",
    "    directory=test_path, target_size=(224,224), batch_size=1, shuffle=False)"
   ]
  },
  {
   "cell_type": "markdown",
   "id": "d41be215",
   "metadata": {},
   "source": [
    "## Function to train model "
   ]
  },
  {
   "cell_type": "code",
   "execution_count": 6,
   "id": "c14b781e",
   "metadata": {},
   "outputs": [],
   "source": [
    "def trainModel(model_name, lr=0.001,epochs=100):\n",
    "    inputs = layers.Input(shape=(224, 224, 3))\n",
    "    x = img_augmentation(inputs)\n",
    "    if model_name==\"efficientnet\":\n",
    "        model = EfficientNetB0(include_top=False, input_tensor=x, weights=\"imagenet\")\n",
    "    elif model_name==\"rasnet\":\n",
    "        model = ResNet50(include_top=False, input_tensor=x, weights=\"imagenet\")\n",
    "    else:\n",
    "        model = VGG16(include_top=False, input_tensor=x, weights=\"imagenet\")\n",
    "    \n",
    "    model.trainable = False\n",
    "    x = layers.GlobalAveragePooling2D(name=\"avg_pool\")(model.output)\n",
    "    x = layers.Activation(\"relu\")(x)\n",
    "    x = layers.BatchNormalization()(x)\n",
    "\n",
    "    top_dropout_rate = 0.2\n",
    "    x = layers.Dropout(top_dropout_rate, name=\"top_dropout\")(x)\n",
    "    outputs = layers.Dense(5, activation=\"softmax\", name=\"pred\")(x)\n",
    "\n",
    "    # Compile\n",
    "    model = tf.keras.Model(inputs, outputs, name=model_name)\n",
    "\n",
    "    optimizer = tf.keras.optimizers.Adam(learning_rate=lr)\n",
    "    model.compile(\n",
    "        optimizer=optimizer, loss=\"categorical_crossentropy\", metrics=[\"accuracy\"]\n",
    "    )\n",
    "    filepath = model_name+\"_best_model.h5\"\n",
    "    checkpoint = tf.keras.callbacks.ModelCheckpoint(filepath, monitor='val_accuracy', save_best_only=True, mode='max')\n",
    "    early_stopping = tf.keras.callbacks.EarlyStopping(monitor='val_loss', patience=10)\n",
    "    \n",
    "#     custom_early_stop = CustomEarlyStopping(start_epoch=25, monitor='val_loss', patience=10)\n",
    "    hist = model.fit(train_batches, epochs=epochs, validation_data=valid_batches, callbacks=[checkpoint,early_stopping])\n",
    "    return model, hist"
   ]
  },
  {
   "cell_type": "markdown",
   "id": "8ee786bf",
   "metadata": {},
   "source": [
    "#### Training EfficientNet and saving the best model on training data"
   ]
  },
  {
   "cell_type": "code",
   "execution_count": 7,
   "id": "8e67546b",
   "metadata": {},
   "outputs": [
    {
     "name": "stdout",
     "output_type": "stream",
     "text": [
      "Epoch 1/100\n",
      "457/457 [==============================] - 17s 37ms/step - loss: 1.0243 - accuracy: 0.6350 - val_loss: 0.2856 - val_accuracy: 0.9180\n",
      "Epoch 2/100\n",
      "457/457 [==============================] - 14s 31ms/step - loss: 0.7396 - accuracy: 0.7480 - val_loss: 0.2915 - val_accuracy: 0.9098\n",
      "Epoch 3/100\n",
      "457/457 [==============================] - 14s 31ms/step - loss: 0.7554 - accuracy: 0.7454 - val_loss: 0.2356 - val_accuracy: 0.9283\n",
      "Epoch 4/100\n",
      "457/457 [==============================] - 14s 32ms/step - loss: 0.7587 - accuracy: 0.7450 - val_loss: 0.2149 - val_accuracy: 0.9365\n",
      "Epoch 5/100\n",
      "457/457 [==============================] - 14s 31ms/step - loss: 0.6451 - accuracy: 0.7713 - val_loss: 0.2120 - val_accuracy: 0.9303\n",
      "Epoch 6/100\n",
      "457/457 [==============================] - 14s 31ms/step - loss: 0.6867 - accuracy: 0.7748 - val_loss: 0.2383 - val_accuracy: 0.9139\n",
      "Epoch 7/100\n",
      "457/457 [==============================] - 14s 31ms/step - loss: 0.7175 - accuracy: 0.7682 - val_loss: 0.2661 - val_accuracy: 0.9078\n",
      "Epoch 8/100\n",
      "457/457 [==============================] - 14s 31ms/step - loss: 0.6852 - accuracy: 0.7616 - val_loss: 0.2516 - val_accuracy: 0.9242\n",
      "Epoch 9/100\n",
      "457/457 [==============================] - 14s 31ms/step - loss: 0.6528 - accuracy: 0.7848 - val_loss: 0.2514 - val_accuracy: 0.9324\n",
      "Epoch 10/100\n",
      "457/457 [==============================] - 14s 31ms/step - loss: 0.6806 - accuracy: 0.7805 - val_loss: 0.2565 - val_accuracy: 0.9160\n",
      "Epoch 11/100\n",
      "457/457 [==============================] - 14s 31ms/step - loss: 0.6123 - accuracy: 0.7840 - val_loss: 0.2552 - val_accuracy: 0.9221\n",
      "Epoch 12/100\n",
      "457/457 [==============================] - 14s 31ms/step - loss: 0.6631 - accuracy: 0.7791 - val_loss: 0.2681 - val_accuracy: 0.9262\n",
      "Epoch 13/100\n",
      "457/457 [==============================] - 14s 31ms/step - loss: 0.6789 - accuracy: 0.7761 - val_loss: 0.3400 - val_accuracy: 0.9160\n",
      "Epoch 14/100\n",
      "457/457 [==============================] - 14s 31ms/step - loss: 0.6445 - accuracy: 0.7892 - val_loss: 0.2773 - val_accuracy: 0.9180\n",
      "Epoch 15/100\n",
      "457/457 [==============================] - 14s 31ms/step - loss: 0.6369 - accuracy: 0.7848 - val_loss: 0.3330 - val_accuracy: 0.9180\n"
     ]
    }
   ],
   "source": [
    "effnet_model, effnet_hist = trainModel(\"efficientnet\")"
   ]
  },
  {
   "cell_type": "code",
   "execution_count": null,
   "id": "47cc8a63",
   "metadata": {},
   "outputs": [],
   "source": []
  },
  {
   "cell_type": "markdown",
   "id": "ccff808d",
   "metadata": {},
   "source": [
    "#### #### Training ResNet and saving the best model on training data"
   ]
  },
  {
   "cell_type": "code",
   "execution_count": 8,
   "id": "21743147",
   "metadata": {},
   "outputs": [
    {
     "name": "stdout",
     "output_type": "stream",
     "text": [
      "Found 2282 images belonging to 5 classes.\n",
      "Found 488 images belonging to 5 classes.\n"
     ]
    }
   ],
   "source": [
    "train_batches = ImageDataGenerator(preprocessing_function=tf.keras.applications.resnet50.preprocess_input).flow_from_directory(\n",
    "    directory=train_path, target_size=(224,224), batch_size=5)\n",
    "valid_batches = ImageDataGenerator(preprocessing_function=tf.keras.applications.resnet50.preprocess_input).flow_from_directory(\n",
    "    directory=valid_path, target_size=(224,224), batch_size=5)\n",
    "# test_batches = ImageDataGenerator(preprocessing_function=tf.keras.applications.rasnet.preprocess_input).flow_from_directory(\n",
    "#     directory=test_path, target_size=(224,224), batch_size=1, shuffle=False)"
   ]
  },
  {
   "cell_type": "code",
   "execution_count": 9,
   "id": "0d1c31b7",
   "metadata": {},
   "outputs": [
    {
     "name": "stdout",
     "output_type": "stream",
     "text": [
      "Epoch 1/100\n",
      "457/457 [==============================] - 26s 56ms/step - loss: 1.0274 - accuracy: 0.6604 - val_loss: 0.4438 - val_accuracy: 0.8627\n",
      "Epoch 2/100\n",
      "457/457 [==============================] - 24s 52ms/step - loss: 0.7585 - accuracy: 0.7524 - val_loss: 0.3956 - val_accuracy: 0.8832\n",
      "Epoch 3/100\n",
      "457/457 [==============================] - 24s 51ms/step - loss: 0.7453 - accuracy: 0.7695 - val_loss: 0.3299 - val_accuracy: 0.8811\n",
      "Epoch 4/100\n",
      "457/457 [==============================] - 24s 52ms/step - loss: 0.7233 - accuracy: 0.7862 - val_loss: 0.2861 - val_accuracy: 0.9057\n",
      "Epoch 5/100\n",
      "457/457 [==============================] - 24s 52ms/step - loss: 0.7275 - accuracy: 0.7822 - val_loss: 0.3546 - val_accuracy: 0.9057\n",
      "Epoch 6/100\n",
      "457/457 [==============================] - 24s 52ms/step - loss: 0.7103 - accuracy: 0.7844 - val_loss: 0.2952 - val_accuracy: 0.8996\n",
      "Epoch 7/100\n",
      "457/457 [==============================] - 23s 51ms/step - loss: 0.6815 - accuracy: 0.7888 - val_loss: 0.3036 - val_accuracy: 0.9057\n",
      "Epoch 8/100\n",
      "457/457 [==============================] - 24s 52ms/step - loss: 0.7148 - accuracy: 0.7866 - val_loss: 0.3441 - val_accuracy: 0.8996\n",
      "Epoch 9/100\n",
      "457/457 [==============================] - 24s 52ms/step - loss: 0.6974 - accuracy: 0.7835 - val_loss: 0.3762 - val_accuracy: 0.8873\n",
      "Epoch 10/100\n",
      "457/457 [==============================] - 24s 53ms/step - loss: 0.6785 - accuracy: 0.7897 - val_loss: 0.2930 - val_accuracy: 0.9283\n",
      "Epoch 11/100\n",
      "457/457 [==============================] - 23s 51ms/step - loss: 0.6791 - accuracy: 0.8046 - val_loss: 0.3469 - val_accuracy: 0.8996\n",
      "Epoch 12/100\n",
      "457/457 [==============================] - 24s 52ms/step - loss: 0.6733 - accuracy: 0.8067 - val_loss: 0.3455 - val_accuracy: 0.9016\n",
      "Epoch 13/100\n",
      "457/457 [==============================] - 23s 51ms/step - loss: 0.7121 - accuracy: 0.7866 - val_loss: 0.3128 - val_accuracy: 0.9078\n",
      "Epoch 14/100\n",
      "457/457 [==============================] - 24s 52ms/step - loss: 0.6403 - accuracy: 0.8116 - val_loss: 0.3737 - val_accuracy: 0.9098\n"
     ]
    }
   ],
   "source": [
    "rasnet_model, rasnet_hist = trainModel(\"rasnet\")"
   ]
  },
  {
   "cell_type": "code",
   "execution_count": null,
   "id": "0fae701a",
   "metadata": {},
   "outputs": [],
   "source": []
  },
  {
   "cell_type": "markdown",
   "id": "a4626018",
   "metadata": {},
   "source": [
    "#### Training VGG16 and saving the best model on training data"
   ]
  },
  {
   "cell_type": "code",
   "execution_count": 10,
   "id": "e61e3bb2",
   "metadata": {},
   "outputs": [
    {
     "name": "stdout",
     "output_type": "stream",
     "text": [
      "Found 2282 images belonging to 5 classes.\n",
      "Found 488 images belonging to 5 classes.\n"
     ]
    }
   ],
   "source": [
    "train_batches = ImageDataGenerator(preprocessing_function=tf.keras.applications.vgg16.preprocess_input).flow_from_directory(\n",
    "    directory=train_path, target_size=(224,224), batch_size=5)\n",
    "valid_batches = ImageDataGenerator(preprocessing_function=tf.keras.applications.vgg16.preprocess_input).flow_from_directory(\n",
    "    directory=valid_path, target_size=(224,224), batch_size=5)"
   ]
  },
  {
   "cell_type": "code",
   "execution_count": 11,
   "id": "2a852ece",
   "metadata": {},
   "outputs": [
    {
     "name": "stdout",
     "output_type": "stream",
     "text": [
      "Epoch 1/100\n",
      "457/457 [==============================] - 35s 76ms/step - loss: 1.3568 - accuracy: 0.4956 - val_loss: 0.6357 - val_accuracy: 0.7828\n",
      "Epoch 2/100\n",
      "457/457 [==============================] - 33s 73ms/step - loss: 0.9294 - accuracy: 0.6630 - val_loss: 0.4867 - val_accuracy: 0.8402\n",
      "Epoch 3/100\n",
      "457/457 [==============================] - 33s 73ms/step - loss: 0.8200 - accuracy: 0.6985 - val_loss: 0.3977 - val_accuracy: 0.8627\n",
      "Epoch 4/100\n",
      "457/457 [==============================] - 33s 73ms/step - loss: 0.7873 - accuracy: 0.7195 - val_loss: 0.3572 - val_accuracy: 0.8791\n",
      "Epoch 5/100\n",
      "457/457 [==============================] - 33s 73ms/step - loss: 0.7599 - accuracy: 0.7191 - val_loss: 0.3271 - val_accuracy: 0.8832\n",
      "Epoch 6/100\n",
      "457/457 [==============================] - 33s 73ms/step - loss: 0.7543 - accuracy: 0.7366 - val_loss: 0.3515 - val_accuracy: 0.8934\n",
      "Epoch 7/100\n",
      "457/457 [==============================] - 33s 73ms/step - loss: 0.7460 - accuracy: 0.7287 - val_loss: 0.3572 - val_accuracy: 0.8975\n",
      "Epoch 8/100\n",
      "457/457 [==============================] - 33s 73ms/step - loss: 0.7306 - accuracy: 0.7393 - val_loss: 0.3799 - val_accuracy: 0.8750\n",
      "Epoch 9/100\n",
      "457/457 [==============================] - 33s 73ms/step - loss: 0.7544 - accuracy: 0.7226 - val_loss: 0.3418 - val_accuracy: 0.8873\n",
      "Epoch 10/100\n",
      "457/457 [==============================] - 33s 73ms/step - loss: 0.7371 - accuracy: 0.7344 - val_loss: 0.3337 - val_accuracy: 0.8852\n",
      "Epoch 11/100\n",
      "457/457 [==============================] - 33s 73ms/step - loss: 0.7520 - accuracy: 0.7292 - val_loss: 0.3396 - val_accuracy: 0.8750\n",
      "Epoch 12/100\n",
      "457/457 [==============================] - 33s 73ms/step - loss: 0.7323 - accuracy: 0.7393 - val_loss: 0.3504 - val_accuracy: 0.8873\n",
      "Epoch 13/100\n",
      "457/457 [==============================] - 33s 73ms/step - loss: 0.7587 - accuracy: 0.7239 - val_loss: 0.3619 - val_accuracy: 0.8770\n",
      "Epoch 14/100\n",
      "457/457 [==============================] - 33s 73ms/step - loss: 0.7240 - accuracy: 0.7371 - val_loss: 0.3654 - val_accuracy: 0.8750\n",
      "Epoch 15/100\n",
      "457/457 [==============================] - 33s 73ms/step - loss: 0.7179 - accuracy: 0.7463 - val_loss: 0.3657 - val_accuracy: 0.8791\n"
     ]
    }
   ],
   "source": [
    "vgg_model, vgg_hist = trainModel(\"vgg\")"
   ]
  },
  {
   "cell_type": "code",
   "execution_count": null,
   "id": "a94b52a3",
   "metadata": {},
   "outputs": [],
   "source": []
  },
  {
   "cell_type": "markdown",
   "id": "9bbfbe0d",
   "metadata": {},
   "source": [
    "### Loading the best models(w.r.t. validation accuracy)"
   ]
  },
  {
   "cell_type": "code",
   "execution_count": 12,
   "id": "6d41d467",
   "metadata": {},
   "outputs": [],
   "source": [
    "best_effnet_model = tf.keras.models.load_model(\"efficientnet_best_model.h5\")\n",
    "best_rasnet_model = tf.keras.models.load_model(\"rasnet_best_model.h5\")\n",
    "best_vgg_model = tf.keras.models.load_model(\"vgg_best_model.h5\")"
   ]
  },
  {
   "cell_type": "markdown",
   "id": "2d181bac",
   "metadata": {},
   "source": [
    "#### Function to plot training and validation loss"
   ]
  },
  {
   "cell_type": "code",
   "execution_count": 13,
   "id": "f72a202f",
   "metadata": {},
   "outputs": [],
   "source": [
    "def plotLossVsEpoch(model_name, history):\n",
    "    \n",
    "    plt.figure(figsize=(8,5))\n",
    "    plt.plot(history.history['loss'], label='Training Loss')\n",
    "    plt.plot(history.history['val_loss'], label='Validation Loss')\n",
    "    plt.xlabel('Epoch')\n",
    "    plt.ylabel('Loss')\n",
    "    plt.legend()\n",
    "    plt.title(model_name)\n",
    "    plt.show()"
   ]
  },
  {
   "cell_type": "code",
   "execution_count": 14,
   "id": "1fb217c6",
   "metadata": {},
   "outputs": [
    {
     "data": {
      "image/png": "[encoded data removed]",
      "text/plain": [
       "<Figure size 576x360 with 1 Axes>"
      ]
     },
     "metadata": {
      "needs_background": "light"
     },
     "output_type": "display_data"
    }
   ],
   "source": [
    "plotLossVsEpoch(\"EfficientNetB0\",effnet_hist)"
   ]
  },
  {
   "cell_type": "code",
   "execution_count": 15,
   "id": "4691d53b",
   "metadata": {},
   "outputs": [
    {
     "data": {
      "image/png": "[encoded data removed]",
      "text/plain": [
       "<Figure size 576x360 with 1 Axes>"
      ]
     },
     "metadata": {
      "needs_background": "light"
     },
     "output_type": "display_data"
    }
   ],
   "source": [
    "plotLossVsEpoch(\"RasNet50\",rasnet_hist)"
   ]
  },
  {
   "cell_type": "code",
   "execution_count": 16,
   "id": "ddbfc055",
   "metadata": {},
   "outputs": [
    {
     "data": {
      "image/png": "[encoded data removed]",
      "text/plain": [
       "<Figure size 576x360 with 1 Axes>"
      ]
     },
     "metadata": {
      "needs_background": "light"
     },
     "output_type": "display_data"
    }
   ],
   "source": [
    "plotLossVsEpoch(\"VGG16\",vgg_hist)"
   ]
  },
  {
   "cell_type": "code",
   "execution_count": null,
   "id": "b6f48b72",
   "metadata": {},
   "outputs": [],
   "source": []
  },
  {
   "cell_type": "code",
   "execution_count": 17,
   "id": "b4f2c96c",
   "metadata": {},
   "outputs": [
    {
     "data": {
      "text/plain": [
       "[0, 1, 2, 3, 4]"
      ]
     },
     "execution_count": 17,
     "metadata": {},
     "output_type": "execute_result"
    }
   ],
   "source": [
    "class_list = list(train_batches.class_indices.values())\n",
    "class_list"
   ]
  },
  {
   "cell_type": "code",
   "execution_count": null,
   "id": "5d32ad8e",
   "metadata": {},
   "outputs": [],
   "source": []
  },
  {
   "cell_type": "markdown",
   "id": "c9bbcc81",
   "metadata": {},
   "source": [
    "#### Function to evaluate on test data"
   ]
  },
  {
   "cell_type": "code",
   "execution_count": 18,
   "id": "0fc60f8e",
   "metadata": {},
   "outputs": [],
   "source": [
    "def evaluateModel(model, model_name, batch):\n",
    "    if batch==\"train\":\n",
    "        batch_path = train_path\n",
    "    else:\n",
    "        batch_path = test_path\n",
    "    if model_name ==\"efficientnet\":\n",
    "        batches = ImageDataGenerator(preprocessing_function=tf.keras.applications.efficientnet.preprocess_input).flow_from_directory(\n",
    "    directory=batch_path, target_size=(224,224), batch_size=1, shuffle=False)\n",
    "    elif model_name==\"resnet\":\n",
    "        batches = ImageDataGenerator(preprocessing_function=tf.keras.applications.resnet50.preprocess_input).flow_from_directory(\n",
    "    directory=batch_path, target_size=(224,224), batch_size=1, shuffle=False)\n",
    "    else:\n",
    "        batches = ImageDataGenerator(preprocessing_function=tf.keras.applications.vgg16.preprocess_input).flow_from_directory(\n",
    "    directory=batch_path, target_size=(224,224), batch_size=1, shuffle=False)\n",
    "    predictions = model.predict(batches)\n",
    "    predicted_classes = np.argmax(predictions,axis=1)\n",
    "    \n",
    "    print(\"\\nClasses : \", train_batches.class_indices)\n",
    "    \n",
    "    print(\"\\nFor \"+model_name+\": \" )\n",
    "    print(\"\\nConfusion Matrix : \")\n",
    "    cm = sklearn.metrics.confusion_matrix(batches.classes, predicted_classes, labels=class_list)\n",
    "    disp = sklearn.metrics.ConfusionMatrixDisplay(confusion_matrix=cm, display_labels=class_list)\n",
    "    disp.plot()\n",
    "    plt.show()\n",
    "    print(\"\\nPrecision Value : \", sklearn.metrics.precision_score(batches.classes, predicted_classes,average=\"macro\"))\n",
    "    \n",
    "    print(\"\\nRecall Value : \", sklearn.metrics.recall_score(batches.classes, predicted_classes,average=\"macro\"))\n",
    "    \n",
    "    print(\"\\nAccuracy Value : \", sklearn.metrics.accuracy_score(batches.classes, predicted_classes))\n",
    "    \n",
    "    print(\"\\nPrecision Value : \", sklearn.metrics.f1_score(batches.classes, predicted_classes,average=\"macro\"))"
   ]
  },
  {
   "cell_type": "code",
   "execution_count": 19,
   "id": "e3c1a00e",
   "metadata": {},
   "outputs": [
    {
     "name": "stdout",
     "output_type": "stream",
     "text": [
      "Found 2282 images belonging to 5 classes.\n",
      "\n",
      "Classes :  {'baseball': 0, 'basketball': 1, 'fencing': 2, 'tennis': 3, 'volleyball': 4}\n",
      "\n",
      "For efficientnet: \n",
      "\n",
      "Confusion Matrix : \n"
     ]
    },
    {
     "data": {
      "image/png": "[encoded data removed]",
      "text/plain": [
       "<Figure size 432x288 with 2 Axes>"
      ]
     },
     "metadata": {
      "needs_background": "light"
     },
     "output_type": "display_data"
    },
    {
     "name": "stdout",
     "output_type": "stream",
     "text": [
      "\n",
      "Precision Value :  0.9484682933063675\n",
      "\n",
      "Recall Value :  0.9457503494678365\n",
      "\n",
      "Accuracy Value :  0.9469763365468887\n",
      "\n",
      "Precision Value :  0.9469284959625341\n"
     ]
    }
   ],
   "source": [
    "evaluateModel(best_effnet_model,\"efficientnet\", \"train\")"
   ]
  },
  {
   "cell_type": "code",
   "execution_count": 20,
   "id": "4b5751f9",
   "metadata": {},
   "outputs": [
    {
     "name": "stdout",
     "output_type": "stream",
     "text": [
      "Found 492 images belonging to 5 classes.\n",
      "\n",
      "Classes :  {'baseball': 0, 'basketball': 1, 'fencing': 2, 'tennis': 3, 'volleyball': 4}\n",
      "\n",
      "For efficientnet: \n",
      "\n",
      "Confusion Matrix : \n"
     ]
    },
    {
     "data": {
      "image/png": "[encoded data removed]",
      "text/plain": [
       "<Figure size 432x288 with 2 Axes>"
      ]
     },
     "metadata": {
      "needs_background": "light"
     },
     "output_type": "display_data"
    },
    {
     "name": "stdout",
     "output_type": "stream",
     "text": [
      "\n",
      "Precision Value :  0.9085225068898642\n",
      "\n",
      "Recall Value :  0.9062800076187999\n",
      "\n",
      "Accuracy Value :  0.9105691056910569\n",
      "\n",
      "Precision Value :  0.9069320963242639\n"
     ]
    }
   ],
   "source": [
    "evaluateModel(best_effnet_model,\"efficientnet\", \"test\")"
   ]
  },
  {
   "cell_type": "code",
   "execution_count": 21,
   "id": "ba157ace",
   "metadata": {
    "scrolled": false
   },
   "outputs": [
    {
     "name": "stdout",
     "output_type": "stream",
     "text": [
      "Found 2282 images belonging to 5 classes.\n",
      "\n",
      "Classes :  {'baseball': 0, 'basketball': 1, 'fencing': 2, 'tennis': 3, 'volleyball': 4}\n",
      "\n",
      "For resnet: \n",
      "\n",
      "Confusion Matrix : \n"
     ]
    },
    {
     "data": {
      "image/png": "[encoded data removed]",
      "text/plain": [
       "<Figure size 432x288 with 2 Axes>"
      ]
     },
     "metadata": {
      "needs_background": "light"
     },
     "output_type": "display_data"
    },
    {
     "name": "stdout",
     "output_type": "stream",
     "text": [
      "\n",
      "Precision Value :  0.9383248936004982\n",
      "\n",
      "Recall Value :  0.9393762702512987\n",
      "\n",
      "Accuracy Value :  0.9386503067484663\n",
      "\n",
      "Precision Value :  0.9384438937057927\n"
     ]
    }
   ],
   "source": [
    "evaluateModel(best_rasnet_model,\"resnet\", \"train\")"
   ]
  },
  {
   "cell_type": "code",
   "execution_count": 22,
   "id": "1a3ea532",
   "metadata": {},
   "outputs": [
    {
     "name": "stdout",
     "output_type": "stream",
     "text": [
      "Found 492 images belonging to 5 classes.\n",
      "\n",
      "Classes :  {'baseball': 0, 'basketball': 1, 'fencing': 2, 'tennis': 3, 'volleyball': 4}\n",
      "\n",
      "For resnet: \n",
      "\n",
      "Confusion Matrix : \n"
     ]
    },
    {
     "data": {
      "image/png": "[encoded data removed]",
      "text/plain": [
       "<Figure size 432x288 with 2 Axes>"
      ]
     },
     "metadata": {
      "needs_background": "light"
     },
     "output_type": "display_data"
    },
    {
     "name": "stdout",
     "output_type": "stream",
     "text": [
      "\n",
      "Precision Value :  0.9038948156417282\n",
      "\n",
      "Recall Value :  0.9037576136873332\n",
      "\n",
      "Accuracy Value :  0.9085365853658537\n",
      "\n",
      "Precision Value :  0.9034071908576626\n"
     ]
    }
   ],
   "source": [
    "evaluateModel(best_rasnet_model,\"resnet\", \"test\")"
   ]
  },
  {
   "cell_type": "code",
   "execution_count": 23,
   "id": "486684aa",
   "metadata": {
    "scrolled": false
   },
   "outputs": [
    {
     "name": "stdout",
     "output_type": "stream",
     "text": [
      "Found 2282 images belonging to 5 classes.\n",
      "\n",
      "Classes :  {'baseball': 0, 'basketball': 1, 'fencing': 2, 'tennis': 3, 'volleyball': 4}\n",
      "\n",
      "For VGG: \n",
      "\n",
      "Confusion Matrix : \n"
     ]
    },
    {
     "data": {
      "image/png": "[encoded data removed]",
      "text/plain": [
       "<Figure size 432x288 with 2 Axes>"
      ]
     },
     "metadata": {
      "needs_background": "light"
     },
     "output_type": "display_data"
    },
    {
     "name": "stdout",
     "output_type": "stream",
     "text": [
      "\n",
      "Precision Value :  0.8899379795076457\n",
      "\n",
      "Recall Value :  0.8892192858343245\n",
      "\n",
      "Accuracy Value :  0.8886941279579317\n",
      "\n",
      "Precision Value :  0.8889351354794373\n"
     ]
    }
   ],
   "source": [
    "evaluateModel(best_vgg_model,\"VGG\", \"train\")"
   ]
  },
  {
   "cell_type": "code",
   "execution_count": 24,
   "id": "9a1b1ecf",
   "metadata": {},
   "outputs": [
    {
     "name": "stdout",
     "output_type": "stream",
     "text": [
      "Found 492 images belonging to 5 classes.\n",
      "\n",
      "Classes :  {'baseball': 0, 'basketball': 1, 'fencing': 2, 'tennis': 3, 'volleyball': 4}\n",
      "\n",
      "For VGG: \n",
      "\n",
      "Confusion Matrix : \n"
     ]
    },
    {
     "data": {
      "image/png": "[encoded data removed]",
      "text/plain": [
       "<Figure size 432x288 with 2 Axes>"
      ]
     },
     "metadata": {
      "needs_background": "light"
     },
     "output_type": "display_data"
    },
    {
     "name": "stdout",
     "output_type": "stream",
     "text": [
      "\n",
      "Precision Value :  0.8505343939667581\n",
      "\n",
      "Recall Value :  0.8499891861857953\n",
      "\n",
      "Accuracy Value :  0.8516260162601627\n",
      "\n",
      "Precision Value :  0.849784152305251\n"
     ]
    }
   ],
   "source": [
    "evaluateModel(best_vgg_model,\"VGG\", \"test\")"
   ]
  },
  {
   "cell_type": "code",
   "execution_count": null,
   "id": "ea020d21",
   "metadata": {},
   "outputs": [],
   "source": []
  },
  {
   "cell_type": "markdown",
   "id": "ec648ac9",
   "metadata": {},
   "source": [
    "# f) Video Classification using Moving Average"
   ]
  },
  {
   "cell_type": "markdown",
   "id": "8e91952a",
   "metadata": {},
   "source": [
    "### Training the model on entire data"
   ]
  },
  {
   "cell_type": "code",
   "execution_count": 25,
   "id": "24ba0c59",
   "metadata": {},
   "outputs": [],
   "source": [
    "data_path = \"../data/Sport Images/\""
   ]
  },
  {
   "cell_type": "code",
   "execution_count": 26,
   "id": "53f835f0",
   "metadata": {},
   "outputs": [],
   "source": [
    "def trainModelVideo(model_name, train_batch, lr=0.001,epochs=100):\n",
    "    inputs = layers.Input(shape=(224, 224, 3))\n",
    "    x = img_augmentation(inputs)\n",
    "    if model_name==\"efficientnet\":\n",
    "        model = EfficientNetB0(include_top=False, input_tensor=x, weights=\"imagenet\")\n",
    "    elif model_name==\"resnet\":\n",
    "        model = ResNet50(include_top=False, input_tensor=x, weights=\"imagenet\")\n",
    "    else:\n",
    "        model = VGG16(include_top=False, input_tensor=x, weights=\"imagenet\")\n",
    "    \n",
    "    model.trainable = False\n",
    "    x = layers.GlobalAveragePooling2D(name=\"avg_pool\")(model.output)\n",
    "    x = layers.Activation(\"relu\")(x)\n",
    "    x = layers.BatchNormalization()(x)\n",
    "\n",
    "    top_dropout_rate = 0.2\n",
    "    x = layers.Dropout(top_dropout_rate, name=\"top_dropout\")(x)\n",
    "    outputs = layers.Dense(5, activation=\"softmax\", name=\"pred\")(x)\n",
    "\n",
    "    # Compile\n",
    "    model = tf.keras.Model(inputs, outputs, name=model_name)\n",
    "    optimizer = tf.keras.optimizers.Adam(learning_rate=lr)\n",
    "    model.compile(\n",
    "        optimizer=optimizer, loss=\"categorical_crossentropy\", metrics=[\"accuracy\"]\n",
    "    )\n",
    "    filepath = model_name+\"_video_best_model.h5\"\n",
    "#     checkpoint = tf.keras.callbacks.ModelCheckpoint(filepath, monitor='val_loss', save_best_only=True, mode='min')\n",
    "#     early_stopping = tf.keras.callbacks.EarlyStopping(monitor='val_loss', patience=10, mode='min')\n",
    "    hist = model.fit(train_batch, epochs=epochs)\n",
    "    \n",
    "    return model, hist"
   ]
  },
  {
   "cell_type": "code",
   "execution_count": 27,
   "id": "c878283e",
   "metadata": {},
   "outputs": [
    {
     "name": "stdout",
     "output_type": "stream",
     "text": [
      "Found 3262 images belonging to 5 classes.\n"
     ]
    }
   ],
   "source": [
    "train_data = ImageDataGenerator(preprocessing_function=tf.keras.applications.efficientnet.preprocess_input).flow_from_directory(\n",
    "    directory=data_path, target_size=(224,224), batch_size=5)"
   ]
  },
  {
   "cell_type": "code",
   "execution_count": 28,
   "id": "bbd3c75b",
   "metadata": {},
   "outputs": [
    {
     "name": "stdout",
     "output_type": "stream",
     "text": [
      "Epoch 1/30\n",
      "653/653 [==============================] - 19s 29ms/step - loss: 0.9708 - accuracy: 0.6625\n",
      "Epoch 2/30\n",
      "653/653 [==============================] - 17s 26ms/step - loss: 0.7525 - accuracy: 0.7477\n",
      "Epoch 3/30\n",
      "653/653 [==============================] - 17s 26ms/step - loss: 0.7281 - accuracy: 0.7633\n",
      "Epoch 4/30\n",
      "653/653 [==============================] - 17s 26ms/step - loss: 0.7131 - accuracy: 0.7670\n",
      "Epoch 5/30\n",
      "653/653 [==============================] - 17s 26ms/step - loss: 0.6764 - accuracy: 0.7713\n",
      "Epoch 6/30\n",
      "653/653 [==============================] - 17s 26ms/step - loss: 0.6643 - accuracy: 0.7771\n",
      "Epoch 7/30\n",
      "653/653 [==============================] - 17s 26ms/step - loss: 0.6993 - accuracy: 0.7679\n",
      "Epoch 8/30\n",
      "653/653 [==============================] - 17s 26ms/step - loss: 0.6812 - accuracy: 0.7759\n",
      "Epoch 9/30\n",
      "653/653 [==============================] - 17s 26ms/step - loss: 0.6486 - accuracy: 0.7781\n",
      "Epoch 10/30\n",
      "653/653 [==============================] - 17s 26ms/step - loss: 0.6703 - accuracy: 0.7787\n",
      "Epoch 11/30\n",
      "653/653 [==============================] - 17s 26ms/step - loss: 0.6783 - accuracy: 0.7725\n",
      "Epoch 12/30\n",
      "653/653 [==============================] - 17s 26ms/step - loss: 0.6731 - accuracy: 0.7802\n",
      "Epoch 13/30\n",
      "653/653 [==============================] - 17s 26ms/step - loss: 0.6914 - accuracy: 0.7738\n",
      "Epoch 14/30\n",
      "653/653 [==============================] - 17s 27ms/step - loss: 0.6604 - accuracy: 0.7802\n",
      "Epoch 15/30\n",
      "653/653 [==============================] - 17s 26ms/step - loss: 0.6829 - accuracy: 0.7695\n",
      "Epoch 16/30\n",
      "653/653 [==============================] - 17s 26ms/step - loss: 0.6718 - accuracy: 0.7777\n",
      "Epoch 17/30\n",
      "653/653 [==============================] - 17s 26ms/step - loss: 0.6335 - accuracy: 0.7879\n",
      "Epoch 18/30\n",
      "653/653 [==============================] - 17s 26ms/step - loss: 0.6380 - accuracy: 0.7906\n",
      "Epoch 19/30\n",
      "653/653 [==============================] - 17s 26ms/step - loss: 0.6473 - accuracy: 0.7823\n",
      "Epoch 20/30\n",
      "653/653 [==============================] - 17s 26ms/step - loss: 0.6347 - accuracy: 0.7879\n",
      "Epoch 21/30\n",
      "653/653 [==============================] - 17s 26ms/step - loss: 0.6418 - accuracy: 0.7912\n",
      "Epoch 22/30\n",
      "653/653 [==============================] - 17s 26ms/step - loss: 0.6465 - accuracy: 0.7882\n",
      "Epoch 23/30\n",
      "653/653 [==============================] - 17s 26ms/step - loss: 0.6546 - accuracy: 0.7857\n",
      "Epoch 24/30\n",
      "653/653 [==============================] - 17s 26ms/step - loss: 0.6390 - accuracy: 0.7885\n",
      "Epoch 25/30\n",
      "653/653 [==============================] - 17s 26ms/step - loss: 0.6301 - accuracy: 0.7952\n",
      "Epoch 26/30\n",
      "653/653 [==============================] - 17s 26ms/step - loss: 0.6383 - accuracy: 0.7900\n",
      "Epoch 27/30\n",
      "653/653 [==============================] - 17s 26ms/step - loss: 0.6536 - accuracy: 0.7814\n",
      "Epoch 28/30\n",
      "653/653 [==============================] - 17s 26ms/step - loss: 0.6366 - accuracy: 0.7915\n",
      "Epoch 29/30\n",
      "653/653 [==============================] - 17s 26ms/step - loss: 0.6431 - accuracy: 0.7857\n",
      "Epoch 30/30\n",
      "653/653 [==============================] - 17s 27ms/step - loss: 0.6018 - accuracy: 0.8075\n"
     ]
    }
   ],
   "source": [
    "effnet_video, effnet_video_hist = trainModelVideo(\"efficientnet\",train_batch=train_data,epochs=30)"
   ]
  },
  {
   "cell_type": "code",
   "execution_count": 29,
   "id": "7fc25699",
   "metadata": {},
   "outputs": [],
   "source": [
    "effnet_video.save(\"effnet_video.h5\")"
   ]
  },
  {
   "cell_type": "code",
   "execution_count": 30,
   "id": "be5efedd",
   "metadata": {},
   "outputs": [],
   "source": [
    "best_effnet_video_model = tf.keras.models.load_model(\"effnet_video.h5\")"
   ]
  },
  {
   "cell_type": "code",
   "execution_count": 31,
   "id": "3650f4a5",
   "metadata": {},
   "outputs": [
    {
     "name": "stdout",
     "output_type": "stream",
     "text": [
      "Found 3262 images belonging to 5 classes.\n"
     ]
    }
   ],
   "source": [
    "train_data = ImageDataGenerator(preprocessing_function=tf.keras.applications.resnet50.preprocess_input).flow_from_directory(\n",
    "    directory=data_path, target_size=(224,224), batch_size=5)"
   ]
  },
  {
   "cell_type": "code",
   "execution_count": 32,
   "id": "199cddeb",
   "metadata": {},
   "outputs": [
    {
     "name": "stdout",
     "output_type": "stream",
     "text": [
      "Epoch 1/30\n",
      "653/653 [==============================] - 28s 44ms/step - loss: 0.9595 - accuracy: 0.6836\n",
      "Epoch 2/30\n",
      "653/653 [==============================] - 29s 44ms/step - loss: 0.7729 - accuracy: 0.7609\n",
      "Epoch 3/30\n",
      "653/653 [==============================] - 29s 44ms/step - loss: 0.7717 - accuracy: 0.7710\n",
      "Epoch 4/30\n",
      "653/653 [==============================] - 29s 44ms/step - loss: 0.7000 - accuracy: 0.7937\n",
      "Epoch 5/30\n",
      "653/653 [==============================] - 29s 44ms/step - loss: 0.7063 - accuracy: 0.7882\n",
      "Epoch 6/30\n",
      "653/653 [==============================] - 29s 44ms/step - loss: 0.7103 - accuracy: 0.7915\n",
      "Epoch 7/30\n",
      "653/653 [==============================] - 29s 44ms/step - loss: 0.7221 - accuracy: 0.7771\n",
      "Epoch 8/30\n",
      "653/653 [==============================] - 29s 44ms/step - loss: 0.7173 - accuracy: 0.7860\n",
      "Epoch 9/30\n",
      "653/653 [==============================] - 29s 45ms/step - loss: 0.6767 - accuracy: 0.7980\n",
      "Epoch 10/30\n",
      "653/653 [==============================] - 29s 44ms/step - loss: 0.7219 - accuracy: 0.7977\n",
      "Epoch 11/30\n",
      "653/653 [==============================] - 29s 44ms/step - loss: 0.7465 - accuracy: 0.7922\n",
      "Epoch 12/30\n",
      "653/653 [==============================] - 29s 44ms/step - loss: 0.7164 - accuracy: 0.7961\n",
      "Epoch 13/30\n",
      "653/653 [==============================] - 29s 44ms/step - loss: 0.6436 - accuracy: 0.8099\n",
      "Epoch 14/30\n",
      "653/653 [==============================] - 29s 44ms/step - loss: 0.6992 - accuracy: 0.8066\n",
      "Epoch 15/30\n",
      "653/653 [==============================] - 29s 44ms/step - loss: 0.7220 - accuracy: 0.7980\n",
      "Epoch 16/30\n",
      "653/653 [==============================] - 29s 44ms/step - loss: 0.7264 - accuracy: 0.7928\n",
      "Epoch 17/30\n",
      "653/653 [==============================] - 29s 44ms/step - loss: 0.7101 - accuracy: 0.7974\n",
      "Epoch 18/30\n",
      "653/653 [==============================] - 29s 44ms/step - loss: 0.6776 - accuracy: 0.8075\n",
      "Epoch 19/30\n",
      "653/653 [==============================] - 29s 44ms/step - loss: 0.7095 - accuracy: 0.7906\n",
      "Epoch 20/30\n",
      "653/653 [==============================] - 29s 44ms/step - loss: 0.6859 - accuracy: 0.7998\n",
      "Epoch 21/30\n",
      "653/653 [==============================] - 29s 44ms/step - loss: 0.7052 - accuracy: 0.7882\n",
      "Epoch 22/30\n",
      "653/653 [==============================] - 29s 44ms/step - loss: 0.7131 - accuracy: 0.7888\n",
      "Epoch 23/30\n",
      "653/653 [==============================] - 29s 44ms/step - loss: 0.6603 - accuracy: 0.8084\n",
      "Epoch 24/30\n",
      "653/653 [==============================] - 29s 44ms/step - loss: 0.6852 - accuracy: 0.7955\n",
      "Epoch 25/30\n",
      "653/653 [==============================] - 29s 44ms/step - loss: 0.6933 - accuracy: 0.7937\n",
      "Epoch 26/30\n",
      "653/653 [==============================] - 29s 44ms/step - loss: 0.6570 - accuracy: 0.8139\n",
      "Epoch 27/30\n",
      "653/653 [==============================] - 29s 44ms/step - loss: 0.6556 - accuracy: 0.8032\n",
      "Epoch 28/30\n",
      "653/653 [==============================] - 29s 44ms/step - loss: 0.6670 - accuracy: 0.7968\n",
      "Epoch 29/30\n",
      "653/653 [==============================] - 29s 44ms/step - loss: 0.6706 - accuracy: 0.8087\n",
      "Epoch 30/30\n",
      "653/653 [==============================] - 29s 44ms/step - loss: 0.6542 - accuracy: 0.8013\n"
     ]
    }
   ],
   "source": [
    "resnet_video, resnet_video_hist = trainModelVideo(\"resnet\",train_batch=train_data,epochs=30)"
   ]
  },
  {
   "cell_type": "code",
   "execution_count": 33,
   "id": "115bb14a",
   "metadata": {},
   "outputs": [],
   "source": [
    "resnet_video.save(\"resnet_video.h5\")"
   ]
  },
  {
   "cell_type": "code",
   "execution_count": 34,
   "id": "9a129417",
   "metadata": {},
   "outputs": [],
   "source": [
    "best_resnet_video_model = tf.keras.models.load_model(\"resnet_video.h5\")"
   ]
  },
  {
   "cell_type": "code",
   "execution_count": null,
   "id": "eb567701",
   "metadata": {},
   "outputs": [],
   "source": []
  },
  {
   "cell_type": "code",
   "execution_count": 35,
   "id": "9e7fcee3",
   "metadata": {},
   "outputs": [
    {
     "name": "stdout",
     "output_type": "stream",
     "text": [
      "Found 3262 images belonging to 5 classes.\n"
     ]
    }
   ],
   "source": [
    "train_data = ImageDataGenerator(preprocessing_function=tf.keras.applications.vgg16.preprocess_input).flow_from_directory(\n",
    "    directory=data_path, target_size=(224,224), batch_size=5)"
   ]
  },
  {
   "cell_type": "code",
   "execution_count": 36,
   "id": "1b692141",
   "metadata": {},
   "outputs": [
    {
     "name": "stdout",
     "output_type": "stream",
     "text": [
      "Epoch 1/50\n",
      "653/653 [==============================] - 39s 60ms/step - loss: 1.2080 - accuracy: 0.5598\n",
      "Epoch 2/50\n",
      "653/653 [==============================] - 40s 61ms/step - loss: 0.8556 - accuracy: 0.6867\n",
      "Epoch 3/50\n",
      "653/653 [==============================] - 40s 61ms/step - loss: 0.7990 - accuracy: 0.7158\n",
      "Epoch 4/50\n",
      "653/653 [==============================] - 40s 61ms/step - loss: 0.7677 - accuracy: 0.7207\n",
      "Epoch 5/50\n",
      "653/653 [==============================] - 40s 61ms/step - loss: 0.7560 - accuracy: 0.7256\n",
      "Epoch 6/50\n",
      "653/653 [==============================] - 40s 61ms/step - loss: 0.7286 - accuracy: 0.7382\n",
      "Epoch 7/50\n",
      "653/653 [==============================] - 40s 61ms/step - loss: 0.7286 - accuracy: 0.7296\n",
      "Epoch 8/50\n",
      "653/653 [==============================] - 40s 61ms/step - loss: 0.7731 - accuracy: 0.7265\n",
      "Epoch 9/50\n",
      "653/653 [==============================] - 40s 61ms/step - loss: 0.7538 - accuracy: 0.7253\n",
      "Epoch 10/50\n",
      "653/653 [==============================] - 40s 61ms/step - loss: 0.7264 - accuracy: 0.7446\n",
      "Epoch 11/50\n",
      "653/653 [==============================] - 40s 61ms/step - loss: 0.7387 - accuracy: 0.7354\n",
      "Epoch 12/50\n",
      "653/653 [==============================] - 40s 61ms/step - loss: 0.7262 - accuracy: 0.7391\n",
      "Epoch 13/50\n",
      "653/653 [==============================] - 40s 61ms/step - loss: 0.7409 - accuracy: 0.7299\n",
      "Epoch 14/50\n",
      "653/653 [==============================] - 40s 61ms/step - loss: 0.7307 - accuracy: 0.7330\n",
      "Epoch 15/50\n",
      "653/653 [==============================] - 40s 61ms/step - loss: 0.7280 - accuracy: 0.7471\n",
      "Epoch 16/50\n",
      "653/653 [==============================] - 40s 61ms/step - loss: 0.7072 - accuracy: 0.7425\n",
      "Epoch 17/50\n",
      "653/653 [==============================] - 40s 61ms/step - loss: 0.7293 - accuracy: 0.7336\n",
      "Epoch 18/50\n",
      "653/653 [==============================] - 40s 61ms/step - loss: 0.7295 - accuracy: 0.7324\n",
      "Epoch 19/50\n",
      "653/653 [==============================] - 40s 61ms/step - loss: 0.7235 - accuracy: 0.7394\n",
      "Epoch 20/50\n",
      "653/653 [==============================] - 40s 61ms/step - loss: 0.7102 - accuracy: 0.7440\n",
      "Epoch 21/50\n",
      "653/653 [==============================] - 40s 61ms/step - loss: 0.7284 - accuracy: 0.7327\n",
      "Epoch 22/50\n",
      "653/653 [==============================] - 40s 61ms/step - loss: 0.7259 - accuracy: 0.7367\n",
      "Epoch 23/50\n",
      "653/653 [==============================] - 40s 61ms/step - loss: 0.7528 - accuracy: 0.7275\n",
      "Epoch 24/50\n",
      "653/653 [==============================] - 40s 61ms/step - loss: 0.7053 - accuracy: 0.7462\n",
      "Epoch 25/50\n",
      "653/653 [==============================] - 40s 61ms/step - loss: 0.7445 - accuracy: 0.7311\n",
      "Epoch 26/50\n",
      "653/653 [==============================] - 40s 61ms/step - loss: 0.7333 - accuracy: 0.7376\n",
      "Epoch 27/50\n",
      "653/653 [==============================] - 40s 61ms/step - loss: 0.7011 - accuracy: 0.7440\n",
      "Epoch 28/50\n",
      "653/653 [==============================] - 40s 61ms/step - loss: 0.7020 - accuracy: 0.7471\n",
      "Epoch 29/50\n",
      "653/653 [==============================] - 40s 61ms/step - loss: 0.7294 - accuracy: 0.7339\n",
      "Epoch 30/50\n",
      "653/653 [==============================] - 40s 61ms/step - loss: 0.7802 - accuracy: 0.7241\n",
      "Epoch 31/50\n",
      "653/653 [==============================] - 40s 61ms/step - loss: 0.7188 - accuracy: 0.7431\n",
      "Epoch 32/50\n",
      "653/653 [==============================] - 40s 61ms/step - loss: 0.7046 - accuracy: 0.7339\n",
      "Epoch 33/50\n",
      "653/653 [==============================] - 40s 61ms/step - loss: 0.7065 - accuracy: 0.7437\n",
      "Epoch 34/50\n",
      "653/653 [==============================] - 40s 61ms/step - loss: 0.6930 - accuracy: 0.7575\n",
      "Epoch 35/50\n",
      "653/653 [==============================] - 40s 61ms/step - loss: 0.7341 - accuracy: 0.7357\n",
      "Epoch 36/50\n",
      "653/653 [==============================] - 40s 61ms/step - loss: 0.7316 - accuracy: 0.7379\n",
      "Epoch 37/50\n",
      "653/653 [==============================] - 40s 61ms/step - loss: 0.7243 - accuracy: 0.7296\n",
      "Epoch 38/50\n",
      "653/653 [==============================] - 40s 61ms/step - loss: 0.7163 - accuracy: 0.7382\n",
      "Epoch 39/50\n",
      "653/653 [==============================] - 40s 61ms/step - loss: 0.7073 - accuracy: 0.7342\n",
      "Epoch 40/50\n",
      "653/653 [==============================] - 40s 61ms/step - loss: 0.7092 - accuracy: 0.7449\n",
      "Epoch 41/50\n",
      "653/653 [==============================] - 40s 61ms/step - loss: 0.7015 - accuracy: 0.7477\n",
      "Epoch 42/50\n",
      "653/653 [==============================] - 40s 61ms/step - loss: 0.7529 - accuracy: 0.7311\n",
      "Epoch 43/50\n",
      "653/653 [==============================] - 40s 61ms/step - loss: 0.6978 - accuracy: 0.7465\n",
      "Epoch 44/50\n",
      "653/653 [==============================] - 40s 61ms/step - loss: 0.7172 - accuracy: 0.7361\n",
      "Epoch 45/50\n",
      "653/653 [==============================] - 40s 61ms/step - loss: 0.7213 - accuracy: 0.7416\n",
      "Epoch 46/50\n",
      "653/653 [==============================] - 40s 61ms/step - loss: 0.7199 - accuracy: 0.7330\n",
      "Epoch 47/50\n",
      "653/653 [==============================] - 40s 61ms/step - loss: 0.7167 - accuracy: 0.7403\n",
      "Epoch 48/50\n",
      "653/653 [==============================] - 40s 61ms/step - loss: 0.7382 - accuracy: 0.7342\n",
      "Epoch 49/50\n",
      "653/653 [==============================] - 40s 61ms/step - loss: 0.7122 - accuracy: 0.7489\n",
      "Epoch 50/50\n",
      "653/653 [==============================] - 40s 61ms/step - loss: 0.7112 - accuracy: 0.7385\n"
     ]
    }
   ],
   "source": [
    "vgg_video, vgg_video_hist = trainModelVideo(\"vgg\",train_batch=train_data,epochs=50)"
   ]
  },
  {
   "cell_type": "code",
   "execution_count": 37,
   "id": "f078319c",
   "metadata": {},
   "outputs": [],
   "source": [
    "vgg_video.save(\"vgg_video.h5\")"
   ]
  },
  {
   "cell_type": "code",
   "execution_count": 38,
   "id": "b4a277a8",
   "metadata": {},
   "outputs": [],
   "source": [
    "best_vgg_video_model = tf.keras.models.load_model(\"vgg_video.h5\")"
   ]
  },
  {
   "cell_type": "code",
   "execution_count": null,
   "id": "4eb6adb6",
   "metadata": {},
   "outputs": [],
   "source": []
  },
  {
   "cell_type": "code",
   "execution_count": 39,
   "id": "5b8db053",
   "metadata": {},
   "outputs": [
    {
     "name": "stdout",
     "output_type": "stream",
     "text": [
      "['baseball', 'basketball', 'fencing', 'tennis', 'volleyball']\n"
     ]
    }
   ],
   "source": [
    "video_file_path = \"../data/Sport Videos/\"\n",
    "video_classes = os.listdir(video_file_path)\n",
    "print(video_classes)"
   ]
  },
  {
   "cell_type": "markdown",
   "id": "1024285b",
   "metadata": {},
   "source": [
    "### Function to Preprocess frames of video"
   ]
  },
  {
   "cell_type": "code",
   "execution_count": 40,
   "id": "12ddc198",
   "metadata": {},
   "outputs": [],
   "source": [
    "def preprocessImage(img, model_name):\n",
    "    img = cv2.resize(img, (224,224))\n",
    "    if model_name==\"efficientnet\":\n",
    "        return tf.keras.applications.efficientnet.preprocess_input(img)\n",
    "    elif model_name==\"resnet\":\n",
    "        return tf.keras.applications.resnet50.preprocess_input(img)\n",
    "    return tf.keras.applications.vgg16.preprocess_input(img)"
   ]
  },
  {
   "cell_type": "markdown",
   "id": "518a95a4",
   "metadata": {},
   "source": [
    "### Function to perform the task of classification on videos using moving average"
   ]
  },
  {
   "cell_type": "code",
   "execution_count": 41,
   "id": "4d492993",
   "metadata": {},
   "outputs": [],
   "source": [
    "def classifyVideo(model, model_name, train_batch):\n",
    "    actual_class = []\n",
    "    predicted_class = []\n",
    "    \n",
    "    average_probability = []\n",
    "    for i in range(len(video_classes)):\n",
    "        print(\"Class : \", video_classes[i] )\n",
    "        video_path = video_file_path+video_classes[i]+\"/\"\n",
    "        video_list = os.listdir(video_path)\n",
    "        \n",
    "        for video in video_list:\n",
    "            path = video_path+video\n",
    "            video = cv2.VideoCapture(path)\n",
    "            actual_class.append(i)\n",
    "            total_frames = int(video.get(cv2.CAP_PROP_FRAME_COUNT))\n",
    "            frame_interval = max(1, total_frames // 100)\n",
    "            frames = []\n",
    "\n",
    "            for j in range(0, total_frames, frame_interval):\n",
    "                video.set(cv2.CAP_PROP_POS_FRAMES, j)\n",
    "                ret, frame = video.read()\n",
    "\n",
    "                if ret:\n",
    "                    preprocessed_frame = preprocessImage(frame, model_name)\n",
    "                    frames.append(preprocessed_frame)\n",
    "\n",
    "            frames = np.array(frames)\n",
    "            predictions = model.predict(frames)\n",
    "            predictions = np.mean(predictions, axis=0)\n",
    "            average_probability.append(predictions)\n",
    "            predicted_class.append(np.argmax(predictions))\n",
    "            \n",
    "    return actual_class, predicted_class, average_probability            "
   ]
  },
  {
   "cell_type": "markdown",
   "id": "8d3e30db",
   "metadata": {},
   "source": [
    "#### Function to evaluate on video data"
   ]
  },
  {
   "cell_type": "code",
   "execution_count": 42,
   "id": "f0873696",
   "metadata": {},
   "outputs": [],
   "source": [
    "def evaluateModelVideo(actual, predicted, model_name):\n",
    "    print(\"\\nClasses : \", train_data.class_indices)\n",
    "    \n",
    "    print(\"\\nFor \"+model_name+\": \" )\n",
    "    print(\"\\nConfusion Matrix : \")\n",
    "    cm = sklearn.metrics.confusion_matrix(actual, predicted, labels=class_list)\n",
    "    disp = sklearn.metrics.ConfusionMatrixDisplay(confusion_matrix=cm, display_labels=class_list)\n",
    "    disp.plot()\n",
    "    plt.show()\n",
    "    print(\"\\nPrecision Value : \", sklearn.metrics.precision_score(actual, predicted,average=\"macro\"))\n",
    "    \n",
    "    print(\"\\nRecall Value : \", sklearn.metrics.recall_score(actual, predicted,average=\"macro\"))\n",
    "    \n",
    "    print(\"\\nAccuracy Value : \", sklearn.metrics.accuracy_score(actual, predicted))\n",
    "    \n",
    "    print(\"\\nPrecision Value : \", sklearn.metrics.f1_score(actual, predicted,average=\"macro\"))"
   ]
  },
  {
   "cell_type": "code",
   "execution_count": 43,
   "id": "29ca4f15",
   "metadata": {},
   "outputs": [
    {
     "name": "stdout",
     "output_type": "stream",
     "text": [
      "Class :  baseball\n",
      "Class :  basketball\n",
      "Class :  fencing\n",
      "Class :  tennis\n",
      "Class :  volleyball\n"
     ]
    }
   ],
   "source": [
    "actual_class_effnet, predicted_class_effnet, predicted_class_prob_effnet = classifyVideo(best_effnet_video_model,\"efficientnet\", train_data)"
   ]
  },
  {
   "cell_type": "code",
   "execution_count": 44,
   "id": "80f5be1c",
   "metadata": {},
   "outputs": [
    {
     "name": "stdout",
     "output_type": "stream",
     "text": [
      "\n",
      "Classes :  {'baseball': 0, 'basketball': 1, 'fencing': 2, 'tennis': 3, 'volleyball': 4}\n",
      "\n",
      "For EfficientNetB0: \n",
      "\n",
      "Confusion Matrix : \n"
     ]
    },
    {
     "data": {
      "image/png": "[encoded data removed]",
      "text/plain": [
       "<Figure size 432x288 with 2 Axes>"
      ]
     },
     "metadata": {
      "needs_background": "light"
     },
     "output_type": "display_data"
    },
    {
     "name": "stdout",
     "output_type": "stream",
     "text": [
      "\n",
      "Precision Value :  0.6353839229479794\n",
      "\n",
      "Recall Value :  0.5291792074791513\n",
      "\n",
      "Accuracy Value :  0.5330396475770925\n",
      "\n",
      "Precision Value :  0.4558646873355182\n"
     ]
    }
   ],
   "source": [
    "evaluateModelVideo(actual_class_effnet, predicted_class_effnet, \"EfficientNetB0\")"
   ]
  },
  {
   "cell_type": "code",
   "execution_count": 45,
   "id": "618a7b6a",
   "metadata": {},
   "outputs": [
    {
     "name": "stdout",
     "output_type": "stream",
     "text": [
      "Class :  baseball\n",
      "Class :  basketball\n",
      "Class :  fencing\n",
      "Class :  tennis\n",
      "Class :  volleyball\n"
     ]
    }
   ],
   "source": [
    "actual_class_resnet, predicted_class_resnet, predicted_class_prob_resnet = classifyVideo(best_resnet_video_model,\"resnet\", train_data)"
   ]
  },
  {
   "cell_type": "code",
   "execution_count": 46,
   "id": "3b8708d4",
   "metadata": {},
   "outputs": [
    {
     "name": "stdout",
     "output_type": "stream",
     "text": [
      "\n",
      "Classes :  {'baseball': 0, 'basketball': 1, 'fencing': 2, 'tennis': 3, 'volleyball': 4}\n",
      "\n",
      "For ResNet: \n",
      "\n",
      "Confusion Matrix : \n"
     ]
    },
    {
     "data": {
      "image/png": "[encoded data removed]",
      "text/plain": [
       "<Figure size 432x288 with 2 Axes>"
      ]
     },
     "metadata": {
      "needs_background": "light"
     },
     "output_type": "display_data"
    },
    {
     "name": "stdout",
     "output_type": "stream",
     "text": [
      "\n",
      "Precision Value :  0.43650670394188157\n",
      "\n",
      "Recall Value :  0.49238386972560005\n",
      "\n",
      "Accuracy Value :  0.5007342143906021\n",
      "\n",
      "Precision Value :  0.40654187910966905\n"
     ]
    }
   ],
   "source": [
    "evaluateModelVideo(actual_class_resnet, predicted_class_resnet, \"ResNet\")"
   ]
  },
  {
   "cell_type": "code",
   "execution_count": 47,
   "id": "6f3b2b6b",
   "metadata": {},
   "outputs": [
    {
     "name": "stdout",
     "output_type": "stream",
     "text": [
      "Class :  baseball\n",
      "Class :  basketball\n",
      "Class :  fencing\n",
      "Class :  tennis\n",
      "Class :  volleyball\n"
     ]
    }
   ],
   "source": [
    "actual_class_vgg, predicted_class_vgg, predicted_class_prob_vgg = classifyVideo(best_vgg_video_model,\"vgg\", train_data)"
   ]
  },
  {
   "cell_type": "code",
   "execution_count": 48,
   "id": "29236968",
   "metadata": {},
   "outputs": [
    {
     "name": "stdout",
     "output_type": "stream",
     "text": [
      "\n",
      "Classes :  {'baseball': 0, 'basketball': 1, 'fencing': 2, 'tennis': 3, 'volleyball': 4}\n",
      "\n",
      "For VGG: \n",
      "\n",
      "Confusion Matrix : \n"
     ]
    },
    {
     "data": {
      "image/png": "[encoded data removed]",
      "text/plain": [
       "<Figure size 432x288 with 2 Axes>"
      ]
     },
     "metadata": {
      "needs_background": "light"
     },
     "output_type": "display_data"
    },
    {
     "name": "stdout",
     "output_type": "stream",
     "text": [
      "\n",
      "Precision Value :  0.4112445276223064\n",
      "\n",
      "Recall Value :  0.492782751365861\n",
      "\n",
      "Accuracy Value :  0.5022026431718062\n",
      "\n",
      "Precision Value :  0.415143281212373\n"
     ]
    }
   ],
   "source": [
    "evaluateModelVideo(actual_class_vgg, predicted_class_vgg, \"VGG\")"
   ]
  },
  {
   "cell_type": "code",
   "execution_count": null,
   "id": "03cbea15",
   "metadata": {},
   "outputs": [],
   "source": []
  },
  {
   "cell_type": "code",
   "execution_count": null,
   "id": "18365a57",
   "metadata": {},
   "outputs": [],
   "source": []
  },
  {
   "cell_type": "code",
   "execution_count": null,
   "id": "0bd00f03",
   "metadata": {},
   "outputs": [],
   "source": []
  }
 ],
 "metadata": {
  "kernelspec": {
   "display_name": "Python 3 (ipykernel)",
   "language": "python",
   "name": "python3"
  },
  "language_info": {
   "codemirror_mode": {
    "name": "ipython",
    "version": 3
   },
   "file_extension": ".py",
   "mimetype": "text/x-python",
   "name": "python",
   "nbconvert_exporter": "python",
   "pygments_lexer": "ipython3",
   "version": "3.8.8"
  }
 },
 "nbformat": 4,
 "nbformat_minor": 5
}
